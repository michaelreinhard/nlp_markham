{
 "cells": [
  {
   "cell_type": "code",
   "execution_count": 1,
   "metadata": {},
   "outputs": [],
   "source": [
    "import re"
   ]
  },
  {
   "cell_type": "code",
   "execution_count": 2,
   "metadata": {},
   "outputs": [],
   "source": [
    "with open('../MLtext2/MLtext2/data/yelp.csv')as f:\n",
    "    reviews = f.read()"
   ]
  },
  {
   "cell_type": "code",
   "execution_count": 9,
   "metadata": {},
   "outputs": [
    {
     "data": {
      "text/plain": [
       "[('Mr.', 'Mustachio'),\n",
       " ('Mr.', 'Hyde'),\n",
       " ('Mr', 'H'),\n",
       " ('Mr', 'Chao'),\n",
       " ('Mr', 'Chao'),\n",
       " ('Mr.', 'Pibb'),\n",
       " ('Mr.', 'Valet'),\n",
       " ('Mr.', 'and'),\n",
       " ('Mr', 'Mu'),\n",
       " ('Mr', 'MS'),\n",
       " ('Mr.', 'Goodcents'),\n",
       " ('Mr.', 'Drifty'),\n",
       " ('Mr.', 'Drifty'),\n",
       " ('Mr.', 'Drifty'),\n",
       " ('Mr', 'Chu'),\n",
       " ('Mr.', 'Fox'),\n",
       " ('Mr.', 'Pibb'),\n",
       " ('Mr.', 'Yings'),\n",
       " ('Mr.', 'McGrath'),\n",
       " ('Mr.', 'Clerk'),\n",
       " ('Mr.', 'Goodcents'),\n",
       " ('Mr.', 'Goodcents'),\n",
       " ('Mr.', 'Johnston'),\n",
       " ('Mr.', 'K'),\n",
       " ('Mr.', 'Miagi'),\n",
       " ('Mr.', 'Big'),\n",
       " ('Mr.', 'Dr'),\n",
       " ('Mr', 'don'),\n",
       " ('Mr.', 'H__'),\n",
       " ('Mr', 'Goodcents'),\n",
       " ('Mr.', 'Ramsey'),\n",
       " ('Mr.', 'Wong'),\n",
       " ('Mr.', 'Crusty'),\n",
       " ('Mr', 'and'),\n",
       " ('Mr', 'didn'),\n",
       " ('Mr', 'Owner'),\n",
       " ('Mr.', 'T'),\n",
       " ('Mr.', 'T'),\n",
       " ('Mr.', 'Pink'),\n",
       " ('Mr.', 'Baird'),\n",
       " ('Mr.', 'Middle'),\n",
       " ('Mr.', 'Goodcents'),\n",
       " ('Mr', 'Sparky')]"
      ]
     },
     "execution_count": 9,
     "metadata": {},
     "output_type": "execute_result"
    }
   ],
   "source": [
    "re.findall(r'(Mr\\.|Mr) (\\w+)', reviews)"
   ]
  },
  {
   "cell_type": "code",
   "execution_count": 12,
   "metadata": {},
   "outputs": [
    {
     "data": {
      "text/plain": [
       "[('Mr.', 'Mustachio'), ('Mr.', 'Hyde'), ('Mr', 'H'), ('Mr', 'Chao')]"
      ]
     },
     "execution_count": 12,
     "metadata": {},
     "output_type": "execute_result"
    }
   ],
   "source": [
    "re.findall(r'(Mr\\.|Mr) (\\w+)', reviews, flags=re.IGNORECASE)[:4]"
   ]
  },
  {
   "cell_type": "markdown",
   "metadata": {},
   "source": [
    "So with sub you have the pattern you are looking for and then the second thing is the thing you want to replace it with. "
   ]
  },
  {
   "cell_type": "code",
   "execution_count": 14,
   "metadata": {},
   "outputs": [],
   "source": [
    "s = 'I told Mister Pibb that I love Mister Softee'"
   ]
  },
  {
   "cell_type": "code",
   "execution_count": 15,
   "metadata": {},
   "outputs": [
    {
     "data": {
      "text/plain": [
       "'I told Mister Pibb that I hate Mister Softee'"
      ]
     },
     "execution_count": 15,
     "metadata": {},
     "output_type": "execute_result"
    }
   ],
   "source": [
    "re.sub(r'like|love', r'hate', s)"
   ]
  },
  {
   "cell_type": "markdown",
   "metadata": {},
   "source": [
    "Replace hotmail.com and yahoo.com with gmail.com"
   ]
  },
  {
   "cell_type": "code",
   "execution_count": 17,
   "metadata": {},
   "outputs": [],
   "source": [
    "s = 'my twitter is @jimmy, my emails are @yahoo.com and @hotmail.com'"
   ]
  },
  {
   "cell_type": "code",
   "execution_count": 22,
   "metadata": {},
   "outputs": [
    {
     "data": {
      "text/plain": [
       "'my twitter is @jimmy, my emails are @yahoo.com and @hotmail.com'"
      ]
     },
     "execution_count": 22,
     "metadata": {},
     "output_type": "execute_result"
    }
   ],
   "source": [
    "re.sub(r'(\\w+)@[\\w.]+', r'\\1@gmail.com', s)"
   ]
  },
  {
   "cell_type": "code",
   "execution_count": 23,
   "metadata": {},
   "outputs": [],
   "source": [
    "with open('../MLtext2/MLtext2/data/faa.txt') as f:\n",
    "    data = f.read()`"
   ]
  },
  {
   "cell_type": "code",
   "execution_count": 32,
   "metadata": {},
   "outputs": [
    {
     "data": {
      "text/plain": [
       "str"
      ]
     },
     "execution_count": 32,
     "metadata": {},
     "output_type": "execute_result"
    }
   ],
   "source": [
    "type(data)"
   ]
  },
  {
   "cell_type": "code",
   "execution_count": 33,
   "metadata": {},
   "outputs": [
    {
     "name": "stdout",
     "output_type": "stream",
     "text": [
      "FAA Contract Tower Closure List\n",
      "(149 FCTs)\n",
      "3-22-2013\n",
      "LOC\n",
      "ID Facility Name City State\n",
      "DHN DOTHAN RGNL DOTHAN ALABAMA\n",
      "TCL TUSCALOOSA RGNL TUSCALOOSA ALABAMA\n",
      "FYV DRAKE FIELD FAYETTEVILLE AR\n",
      "TXK TEXARKANA RGNL-WEBB FIELD TEXARKANA AR\n",
      "GEU GLENDALE MUNI GLENDALE AZ\n",
      "GYR PHOENIX GOODYEAR GOODYEAR AZ\n",
      "IFP LAUGHLIN/BULLHEAD INTL BULLHEAD CITY AZ\n",
      "RYN RYAN FIELD TUCSON AZ\n",
      "FUL FULLERTON MUNI FULLERTON CA\n",
      "MER CASTLE ATWATER CA\n",
      "OXR OXNARD OXNARD CA\n",
      "RAL RIVERSIDE MUNI RIVERSIDE CA\n",
      "RNM RAMONA RAMONA CA\n",
      "SAC SACRAMENTO EXECUTIVE SACRAMENTO CA\n",
      "SDM BROWN FIELD MUNI SAN DIEGO CA\n",
      "SNS SALINAS MUNI SALINAS CA\n",
      "VCV SOUTHERN CALIFORNIA LOGISTICS VICTORVILLE CA\n",
      "WHP WHITEMAN LOS ANGELES CA\n",
      "WJF GENERAL WM J FOX AIRFIELD LANCASTER CA\n",
      "BDR IGOR I SIKORSKY MEMORIAL BRIDGEPORT CT\n",
      "DXR DANBURY MUNI DANBURY CT\n",
      "GON GROTON-NEW LONDON GROTON (NEW LONDON) CT\n",
      "HFD HARTFORD-BRAINARD HARTFORD CT\n",
      "HVN TWEED-NEW HAVEN NEW HAVEN CT\n",
      "OXC WATERBURY-OXFORD OXFORD CT\n",
      "APF NAPLES MUNI NAPLES FL\n",
      "BCT BOCA RATON BOCA RATON FL\n",
      "EVB NEW SMYRNA BEACH MUNI NEW SMYRNA BEACH FL\n",
      "FMY PAGE FIELD FORT MYERS FL\n",
      "HWO NORTH PERRY HOLLYWOOD FL\n",
      "LAL LAKELAND LINDER RGNL LAKELAND FL\n",
      "LEE LEESBURG INTL LEESBURG FL\n",
      "OCF OCALA INTL-JIM TAYLOR FIELD OCALA FL\n",
      "OMN ORMOND BEACH MUNI ORMOND BEACH FL\n",
      "PGD PUNTA GORDA PUNTA GORDA FL\n",
      "SGJ NORTHEAST FLORIDA RGNL ST AUGUSTINE FL\n",
      "SPG ALBERT WHITTED ST PETERSBURG FL\n",
      "SUA WITHAM FIELD STUART FL\n",
      "TIX SPACE COAST RGNL TITUSVILLE FL\n",
      "ABY SOUTHWEST GEORGIA RGNL ALBANY GA\n",
      "AHN ATHENS/BEN EPPS ATHENS GA\n",
      "LZU GWINNETT COUNTY - BRISCOE FIELD LAWRENCEVILLE GA\n",
      "MCN MIDDLE GEORGIA RGNL MACON GA\n",
      "RYY COBB COUNTY- MCCOLLUM FIELD ATLANTA GA\n",
      "DBQ DUBUQUE RGNL DUBUQUE IA\n",
      "IDA IDAHO FALLS RGNL IDAHO FALLS ID\n",
      "LWS LEWISTON-NEZ PERCE COUNTY LEWISTON ID\n",
      "Page 1 of 4\n",
      "FAA Contract Tower Closure List\n",
      "(149 FCTs)\n",
      "3-22-2013\n",
      "LOC\n",
      "ID Facility Name City State\n",
      "PIH POCATELLO RGNL POCATELLO ID\n",
      "SUN FRIEDMAN MEMORIAL HAILEY ID\n",
      "ALN ST LOUIS RGNL ALTON/ST LOUIS IL\n",
      "BMI CENTRAL IL RGNL ARPT AT BLOOMINGTON- NORMAL BLOOMINGTON/ NORMAL IL\n",
      "DEC DECATUR DECATUR IL\n",
      "MDH SOUTHERN ILLINOIS CARBONDALE/ MURPHYSBORO IL\n",
      "UGN WAUKEGAN RGNL CHICAGO/ WAUKEGAN IL\n",
      "BAK COLUMBUS MUNI COLUMBUS IN\n",
      "GYY GARY/CHICAGO INTL GARY IN\n",
      "HUT HUTCHINSON MUNI HUTCHINSON KS\n",
      "IXD NEW CENTURY AIRCENTER OLATHE KS\n",
      "MHK MANHATTAN RGNL MANHATTAN KS\n",
      "OJC JOHNSON COUNTY EXECUTIVE OLATHE KS\n",
      "TOP PHILIP BILLARD MUNI TOPEKA KS\n",
      "OWB OWENSBORO-DAVIESS COUNTY OWENSBORO KY\n",
      "PAH BARKLEY RGNL PADUCAH KY\n",
      "DTN SHREVEPORT DOWNTOWN SHREVEPORT LA\n",
      "BVY BEVERLY MUNI BEVERLY MA\n",
      "EWB NEW BEDFORD RGNL NEW BEDFORD MA\n",
      "LWM LAWRENCE MUNI LAWRENCE MA\n",
      "ORH WORCESTER RGNL WORCESTER MA\n",
      "OWD NORWOOD MEMORIAL NORWOOD MA\n",
      "ESN EASTON/NEWNAM FIELD EASTON MD\n",
      "FDK FREDERICK MUNI FREDERICK MD\n",
      "HGR HAGERSTOWN RGNL- RICHARD A HENSON FLD HAGERSTOWN MD\n",
      "MTN MARTIN STATE BALTIMORE MD\n",
      "SBY SALISBURY-OCEAN CITY WICOMICO RGNL SALISBURY MD\n",
      "BTL W K KELLOGG BATTLE CREEK MI\n",
      "DET COLEMAN A. YOUNG MUNI DETROIT MI\n",
      "SAW SAWYER INTL MARQUETTE MI\n",
      "ANE ANOKA COUNTY-BLAINE ARPT(JANES FIELD) MINNEAPOLIS MN\n",
      "STC ST CLOUD RGNL ST CLOUD MN\n",
      "BBG BRANSON BRANSON MO\n",
      "COU COLUMBIA RGNL COLUMBIA MO\n",
      "GLH MID DELTA RGNL GREENVILLE MS\n",
      "HKS HAWKINS FIELD JACKSON MS\n",
      "HSA STENNIS INTL (HSA) BAY ST LOUIS MS\n",
      "OLV OLIVE BRANCH OLIVE BRANCH MS\n",
      "TUP TUPELO RGNL TUPELO MS\n",
      "GPI GLACIER PARK INTL KALISPELL MT\n",
      "EWN COASTAL CAROLINA REGIONAL NEW BERN NC\n",
      "HKY HICKORY RGNL HICKORY NC\n",
      "INT SMITH REYNOLDS WINSTON SALEM NC\n",
      "ISO KINSTON RGNL JETPORT AT STALLINGS FLD KINSTON NC\n",
      "JQF CONCORD RGNL CONCORD NC\n",
      "ASH BOIRE FIELD NASHUA NH\n",
      "TTN TRENTON MERCER TRENTON NJ\n",
      "Page 2 of 4\n",
      "FAA Contract Tower Closure List\n",
      "(149 FCTs)\n",
      "3-22-2013\n",
      "LOC\n",
      "ID Facility Name City State\n",
      "AEG DOUBLE EAGLE II ALBUQUERQUE NM\n",
      "SAF SANTA FE MUNI SANTA FE NM\n",
      "ITH ITHACA TOMPKINS RGNL ITHACA NY\n",
      "RME GRIFFISS INTL ROME NY\n",
      "CGF CUYAHOGA COUNTY CLEVELAND OH\n",
      "OSU OHIO STATE UNIVERSITY COLUMBUS OH\n",
      "TZR BOLTON FIELD COLUMBUS OH\n",
      "LAW LAWTON-FORT SILL RGNL LAWTON OK\n",
      "OUN UNIVERSITY OF OKLAHOMA WESTHEIMER NORMAN OK\n",
      "PWA WILEY POST OKLAHOMA CITY OK\n",
      "SWO STILLWATER RGNL STILLWATER OK\n",
      "OTH SOUTHWEST OREGON RGNL NORTH BEND OR\n",
      "PDT EASTERN OREGON RGNL AT PENDLETON PENDLETON OR\n",
      "SLE MCNARY FLD SALEM OR\n",
      "TTD PORTLAND-TROUTDALE PORTLAND OR\n",
      "CXY CAPITAL CITY HARRISBURG PA\n",
      "LBE ARNOLD PALMER RGNL LATROBE PA\n",
      "LNS LANCASTER LANCASTER PA\n",
      "CRE GRAND STRAND NORTH MYRTLE BEACH SC\n",
      "GYH DONALDSON CENTER GREENVILLE SC\n",
      "HXD HILTON HEAD HILTON HEAD ISLAND SC\n",
      "MKL MC KELLAR-SIPES RGNL JACKSON TN\n",
      "NQA MILLINGTON RGNL JETPORT MILLINGTON TN\n",
      "BAZ NEW BRAUNFELS MUNI NEW BRAUNFELS TX\n",
      "BRO BROWNSVILLE/ SOUTH PADRE ISLAND INTL BROWNSVILLE TX\n",
      "CLL EASTERWOOD FIELD COLLEGE STATION TX\n",
      "CNW TSTC WACO WACO TX\n",
      "CXO LONE STAR EXECUTIVE HOUSTON TX\n",
      "GTU GEORGETOWN MUNI GEORGETOWN TX\n",
      "HYI SAN MARCOS MUNI SAN MARCOS TX\n",
      "RBD DALLAS EXECUTIVE DALLAS TX\n",
      "SGR SUGAR LAND RGNL HOUSTON TX\n",
      "SSF STINSON MUNI SAN ANTONIO TX\n",
      "TKI COLLIN COUNTY RGNL AT MC KINNEY DALLAS TX\n",
      "TYR TYLER POUNDS RGNL TYLER TX\n",
      "VCT VICTORIA RGNL VICTORIA TX\n",
      "OGD OGDEN-HINCKLEY OGDEN UT\n",
      "PVU PROVO MUNI PROVO UT\n",
      "LYH LYNCHBURG RGNL/ PRESTON GLENN FLD LYNCHBURG VA\n",
      "OLM OLYMPIA RGNL OLYMPIA WA\n",
      "RNT RENTON MUNI RENTON WA\n",
      "SFF FELTS FIELD SPOKANE WA\n",
      "TIW TACOMA NARROWS TACOMA WA\n",
      "YKM YAKIMA AIR TERMINAL/ MCALLISTER FIELD YAKIMA WA\n",
      "CWA CENTRAL WISCONSIN MOSINEE WI\n",
      "EAU CHIPPEWA VALLEY RGNL EAU CLAIRE WI\n",
      "ENW KENOSHA RGNL KENOSHA WI\n",
      "Page 3 of 4\n",
      "FAA Contract Tower Closure List\n",
      "(149 FCTs)\n",
      "3-22-2013\n",
      "LOC\n",
      "ID Facility Name City State\n",
      "JVL SOUTHERN WISCONSIN RGNL JANESVILLE WI\n",
      "LSE LA CROSSE MUNI LA CROSSE WI\n",
      "MWC LAWRENCE J TIMMERMAN MILWAUKEE WI\n",
      "OSH WITTMAN RGNL OSHKOSH WI\n",
      "UES WAUKESHA COUNTY WAUKESHA WI\n",
      "HLG WHEELING OHIO CO WHEELING WV\n",
      "LWB GREENBRIER VALLEY LEWISBURG WV\n",
      "PKB MID-OHIO VALLEY RGNL PARKERSBURG WV\n",
      "Page 4 of 4\n",
      "\n"
     ]
    }
   ],
   "source": [
    "print(re.sub(r'AL$', r'ALABAMA', data, flags=re.MULTILINE))"
   ]
  },
  {
   "cell_type": "markdown",
   "metadata": {},
   "source": [
    "Within a multiline string, the carat and dollar sign match the beginning and end of the entire string. When you use multiline, they match at the end of each line in the string."
   ]
  },
  {
   "cell_type": "code",
   "execution_count": 36,
   "metadata": {},
   "outputs": [],
   "source": [
    "import pandas as pd\n",
    "path = '../MLtext2/MLtext2/data/imdb_100.csv'\n",
    "imdb = pd.read_csv(path)"
   ]
  },
  {
   "cell_type": "code",
   "execution_count": 48,
   "metadata": {},
   "outputs": [
    {
     "data": {
      "text/html": [
       "<div>\n",
       "<style scoped>\n",
       "    .dataframe tbody tr th:only-of-type {\n",
       "        vertical-align: middle;\n",
       "    }\n",
       "\n",
       "    .dataframe tbody tr th {\n",
       "        vertical-align: top;\n",
       "    }\n",
       "\n",
       "    .dataframe thead th {\n",
       "        text-align: right;\n",
       "    }\n",
       "</style>\n",
       "<table border=\"1\" class=\"dataframe\">\n",
       "  <thead>\n",
       "    <tr style=\"text-align: right;\">\n",
       "      <th></th>\n",
       "      <th>star_rating</th>\n",
       "      <th>title</th>\n",
       "      <th>content_rating</th>\n",
       "      <th>genre</th>\n",
       "      <th>duration</th>\n",
       "      <th>actors_list</th>\n",
       "    </tr>\n",
       "  </thead>\n",
       "  <tbody>\n",
       "    <tr>\n",
       "      <th>0</th>\n",
       "      <td>9.3</td>\n",
       "      <td>The Shawshank Redemption</td>\n",
       "      <td>R</td>\n",
       "      <td>Crime</td>\n",
       "      <td>142</td>\n",
       "      <td>[u'Tim Robbins', u'Morgan Freeman', u'Bob Gunt...</td>\n",
       "    </tr>\n",
       "  </tbody>\n",
       "</table>\n",
       "</div>"
      ],
      "text/plain": [
       "   star_rating                     title content_rating  genre  duration  \\\n",
       "0          9.3  The Shawshank Redemption              R  Crime       142   \n",
       "\n",
       "                                         actors_list  \n",
       "0  [u'Tim Robbins', u'Morgan Freeman', u'Bob Gunt...  "
      ]
     },
     "execution_count": 48,
     "metadata": {},
     "output_type": "execute_result"
    }
   ],
   "source": [
    "imdb.head(1)"
   ]
  },
  {
   "cell_type": "code",
   "execution_count": 49,
   "metadata": {},
   "outputs": [
    {
     "data": {
      "text/plain": [
       "Index(['star_rating', 'title', 'content_rating', 'genre', 'duration',\n",
       "       'actors_list'],\n",
       "      dtype='object')"
      ]
     },
     "execution_count": 49,
     "metadata": {},
     "output_type": "execute_result"
    }
   ],
   "source": [
    "imdb.columns"
   ]
  },
  {
   "cell_type": "code",
   "execution_count": 50,
   "metadata": {},
   "outputs": [
    {
     "data": {
      "text/plain": [
       "['The Shawshank Redemption',\n",
       " 'The Godfather',\n",
       " 'The Godfather: Part II',\n",
       " 'The Dark Knight',\n",
       " 'Pulp Fiction',\n",
       " '12 Angry Men',\n",
       " 'The Good, the Bad and the Ugly',\n",
       " 'The Lord of the Rings: The Return of the King',\n",
       " \"Schindler's List\",\n",
       " 'Fight Club']"
      ]
     },
     "execution_count": 50,
     "metadata": {},
     "output_type": "execute_result"
    }
   ],
   "source": [
    "titles[:10]"
   ]
  },
  {
   "cell_type": "code",
   "execution_count": 51,
   "metadata": {},
   "outputs": [],
   "source": [
    "titles = imdb.title.tolist()"
   ]
  },
  {
   "cell_type": "code",
   "execution_count": 52,
   "metadata": {},
   "outputs": [
    {
     "name": "stdout",
     "output_type": "stream",
     "text": [
      "['The Shawshank Redemption', 'The Godfather', 'The Godfather: Part II', 'The Dark Knight', 'Pulp Fiction', '12 Angry Men', 'The Good, the Bad and the Ugly', 'The Lord of the Rings: The Return of the King', \"Schindler's List\", 'Fight Club']\n"
     ]
    }
   ],
   "source": [
    "print(titles[:10])"
   ]
  },
  {
   "cell_type": "code",
   "execution_count": 88,
   "metadata": {},
   "outputs": [
    {
     "data": {
      "text/plain": [
       "['Shawshank Redemption',\n",
       " 'Godfather',\n",
       " 'Godfather: Part II',\n",
       " 'Dark Knight',\n",
       " 'Pulp Fiction',\n",
       " '12 Angry Men',\n",
       " 'Good, the Bad and the Ugly',\n",
       " 'Lord of the Rings: Return of the King',\n",
       " \"Schindler's List\",\n",
       " 'Fight Club']"
      ]
     },
     "execution_count": 88,
     "metadata": {},
     "output_type": "execute_result"
    }
   ],
   "source": [
    "cleaned_up = []\n",
    "for title in titles:\n",
    "    cleaned_up.append(re.sub(r'(The|A|An) ', r'', title))\n",
    "cleaned_up[:10]"
   ]
  },
  {
   "cell_type": "code",
   "execution_count": 100,
   "metadata": {},
   "outputs": [
    {
     "name": "stdout",
     "output_type": "stream",
     "text": [
      "['Shawshank Redemption, The', 'Godfather, The', 'Godfather: Part II, The', 'Dark Knight, The', 'Pulp Fiction', '12 Angry Men', 'Good, the Bad and the Ugly, The', 'Lord of the Rings: The Return of the King, The', \"Schindler's List\", 'Fight Club', 'Lord of the Rings: The Fellowship of the Ring, The', 'Inception', 'Star Wars: Episode V - The Empire Strikes Back', 'Forrest Gump', 'Lord of the Rings: The Two Towers, The', 'Interstellar', \"One Flew Over the Cuckoo's Nest\", 'Seven Samurai', 'Goodfellas', 'Star Wars', 'Matrix, The', 'City of God', \"It's a Wonderful Life\", 'Usual Suspects, The', 'Se7en', 'Life Is Beautiful', 'Once Upon a Time in the West', 'Silence of the Lambs, The', 'Leon: The Professional', 'City Lights', 'Spirited Away', 'Intouchables, The', 'Casablanca', 'Whiplash', 'American History X', 'Modern Times', 'Saving Private Ryan', 'Raiders of the Lost Ark', 'Rear Window', 'Psycho', 'Green Mile, The', 'Sunset Blvd.', 'Pianist, The', 'Dark Knight Rises, The', 'Gladiator', 'Terminator 2: Judgment Day', 'Memento', 'Taare Zameen Par', 'Dr. Strangelove or: How I Learned to Stop Worrying and Love the Bomb', 'Departed, The', 'Cinema Paradiso', 'Apocalypse Now', 'Great Dictator, The', 'Prestige, The', 'Back to the Future', 'Lion King, The', 'Lives of Others, The', 'Alien', 'Paths of Glory', 'Django Unchained', '3 Idiots', 'Grave of the Fireflies', 'Shining, The', 'M', 'WALL-E', 'Witness for the Prosecution', 'Munna Bhai M.B.B.S.', 'American Beauty', 'Das Boot', 'Princess Mononoke', 'Amelie', 'North by Northwest', 'Rang De Basanti', 'Jodaeiye Nader az Simin', 'Citizen Kane', 'Aliens', 'Vertigo', 'Oldeuboi', 'Once Upon a Time in America', 'Double Indemnity', 'Star Wars: Episode VI - Return of the Jedi', 'Toy Story 3', 'Braveheart', 'To Kill a Mockingbird', 'Requiem for a Dream', 'Lawrence of Arabia', 'Clockwork Orange, A', 'Bicycle Thieves', 'Kid, The', 'Swades', 'Reservoir Dogs', 'Eternal Sunshine of the Spotless Mind', 'Taxi Driver', 'Dilwale Dulhania Le Jayenge', \"Singin' in the Rain\", 'All About Eve', 'Yojimbo', 'Sting, The', 'Rashomon', 'Amadeus']\n"
     ]
    }
   ],
   "source": [
    "clean_titles = [re.sub(r'^(A|An|The) (.+)', r'\\2, \\1', title) for title in titles]\n",
    "print(clean_titles)"
   ]
  },
  {
   "cell_type": "code",
   "execution_count": 101,
   "metadata": {},
   "outputs": [],
   "source": [
    "with open('../MLtext2/MLtext2/data/faa.txt') as f:\n",
    "    data = f.read()"
   ]
  },
  {
   "cell_type": "code",
   "execution_count": 102,
   "metadata": {},
   "outputs": [
    {
     "data": {
      "text/plain": [
       "'FAA Contract Tower Closure List\\n(149 FCTs)\\n3-22-2013\\nLOC\\nID Facility Name City State\\nDHN DOTHAN RGNL DOTHAN AL\\nTCL TUSCALOOSA RGNL TUSCALOOSA AL\\nFYV DRAKE FIELD FAYETTEVILLE AR\\nTXK TEXARKANA RGNL-WEBB FIELD TEXARKANA AR\\nGEU GLENDALE MUNI GLENDALE AZ\\nGYR PHOENIX GOODYEAR GOODYEAR AZ\\nIFP LAUGHLIN/BULLHEAD INTL BULLHEAD CITY AZ\\nRYN RYAN FIELD TUCSON AZ\\nFUL FULLERTON MUNI FULLERTON CA\\nMER CASTLE ATWATER CA\\nOXR OXNARD OXNARD CA\\nRAL RIVERSIDE MUNI RIVERSIDE CA\\nRNM RAMONA RAMONA CA\\nSAC SACRAMENTO EXECUTIVE SACRAMENTO CA\\nSDM BROWN FIELD MUNI SAN DIEGO CA\\nSNS SALINAS MUNI SALINAS CA\\nVCV SOUTHERN CALIFORNIA LOGISTICS VICTORVILLE CA\\nWHP WHITEMAN LOS ANGELES CA\\nWJF GENERAL WM J FOX AIRFIELD LANCASTER CA\\nBDR IGOR I SIKORSKY MEMORIAL BRIDGEPORT CT\\nDXR DANBURY MUNI DANBURY CT\\nGON GROTON-NEW LONDON GROTON (NEW LONDON) CT\\nHFD HARTFORD-BRAINARD HARTFORD CT\\nHVN TWEED-NEW HAVEN NEW HAVEN CT\\nOXC WATERBURY-OXFORD OXFORD CT\\nAPF NAPLES MUNI NAPLES FL\\nBCT BOCA RATON BOCA RATON FL\\nEVB NEW SMYRNA BEACH MUNI NEW SMYRNA BEACH FL\\nFMY PAGE FIELD FORT MYERS FL\\nHWO NORTH PERRY HOLLYWOOD FL\\nLAL LAKELAND LINDER RGNL LAKELAND FL\\nLEE LEESBURG INTL LEESBURG FL\\nOCF OCALA INTL-JIM TAYLOR FIELD OCALA FL\\nOMN ORMOND BEACH MUNI ORMOND BEACH FL\\nPGD PUNTA GORDA PUNTA GORDA FL\\nSGJ NORTHEAST FLORIDA RGNL ST AUGUSTINE FL\\nSPG ALBERT WHITTED ST PETERSBURG FL\\nSUA WITHAM FIELD STUART FL\\nTIX SPACE COAST RGNL TITUSVILLE FL\\nABY SOUTHWEST GEORGIA RGNL ALBANY GA\\nAHN ATHENS/BEN EPPS ATHENS GA\\nLZU GWINNETT COUNTY - BRISCOE FIELD LAWRENCEVILLE GA\\nMCN MIDDLE GEORGIA RGNL MACON GA\\nRYY COBB COUNTY- MCCOLLUM FIELD ATLANTA GA\\nDBQ DUBUQUE RGNL DUBUQUE IA\\nIDA IDAHO FALLS RGNL IDAHO FALLS ID\\nLWS LEWISTON-NEZ PERCE COUNTY LEWISTON ID\\nPage 1 of 4\\nFAA Contract Tower Closure List\\n(149 FCTs)\\n3-22-2013\\nLOC\\nID Facility Name City State\\nPIH POCATELLO RGNL POCATELLO ID\\nSUN FRIEDMAN MEMORIAL HAILEY ID\\nALN ST LOUIS RGNL ALTON/ST LOUIS IL\\nBMI CENTRAL IL RGNL ARPT AT BLOOMINGTON- NORMAL BLOOMINGTON/ NORMAL IL\\nDEC DECATUR DECATUR IL\\nMDH SOUTHERN ILLINOIS CARBONDALE/ MURPHYSBORO IL\\nUGN WAUKEGAN RGNL CHICAGO/ WAUKEGAN IL\\nBAK COLUMBUS MUNI COLUMBUS IN\\nGYY GARY/CHICAGO INTL GARY IN\\nHUT HUTCHINSON MUNI HUTCHINSON KS\\nIXD NEW CENTURY AIRCENTER OLATHE KS\\nMHK MANHATTAN RGNL MANHATTAN KS\\nOJC JOHNSON COUNTY EXECUTIVE OLATHE KS\\nTOP PHILIP BILLARD MUNI TOPEKA KS\\nOWB OWENSBORO-DAVIESS COUNTY OWENSBORO KY\\nPAH BARKLEY RGNL PADUCAH KY\\nDTN SHREVEPORT DOWNTOWN SHREVEPORT LA\\nBVY BEVERLY MUNI BEVERLY MA\\nEWB NEW BEDFORD RGNL NEW BEDFORD MA\\nLWM LAWRENCE MUNI LAWRENCE MA\\nORH WORCESTER RGNL WORCESTER MA\\nOWD NORWOOD MEMORIAL NORWOOD MA\\nESN EASTON/NEWNAM FIELD EASTON MD\\nFDK FREDERICK MUNI FREDERICK MD\\nHGR HAGERSTOWN RGNL- RICHARD A HENSON FLD HAGERSTOWN MD\\nMTN MARTIN STATE BALTIMORE MD\\nSBY SALISBURY-OCEAN CITY WICOMICO RGNL SALISBURY MD\\nBTL W K KELLOGG BATTLE CREEK MI\\nDET COLEMAN A. YOUNG MUNI DETROIT MI\\nSAW SAWYER INTL MARQUETTE MI\\nANE ANOKA COUNTY-BLAINE ARPT(JANES FIELD) MINNEAPOLIS MN\\nSTC ST CLOUD RGNL ST CLOUD MN\\nBBG BRANSON BRANSON MO\\nCOU COLUMBIA RGNL COLUMBIA MO\\nGLH MID DELTA RGNL GREENVILLE MS\\nHKS HAWKINS FIELD JACKSON MS\\nHSA STENNIS INTL (HSA) BAY ST LOUIS MS\\nOLV OLIVE BRANCH OLIVE BRANCH MS\\nTUP TUPELO RGNL TUPELO MS\\nGPI GLACIER PARK INTL KALISPELL MT\\nEWN COASTAL CAROLINA REGIONAL NEW BERN NC\\nHKY HICKORY RGNL HICKORY NC\\nINT SMITH REYNOLDS WINSTON SALEM NC\\nISO KINSTON RGNL JETPORT AT STALLINGS FLD KINSTON NC\\nJQF CONCORD RGNL CONCORD NC\\nASH BOIRE FIELD NASHUA NH\\nTTN TRENTON MERCER TRENTON NJ\\nPage 2 of 4\\nFAA Contract Tower Closure List\\n(149 FCTs)\\n3-22-2013\\nLOC\\nID Facility Name City State\\nAEG DOUBLE EAGLE II ALBUQUERQUE NM\\nSAF SANTA FE MUNI SANTA FE NM\\nITH ITHACA TOMPKINS RGNL ITHACA NY\\nRME GRIFFISS INTL ROME NY\\nCGF CUYAHOGA COUNTY CLEVELAND OH\\nOSU OHIO STATE UNIVERSITY COLUMBUS OH\\nTZR BOLTON FIELD COLUMBUS OH\\nLAW LAWTON-FORT SILL RGNL LAWTON OK\\nOUN UNIVERSITY OF OKLAHOMA WESTHEIMER NORMAN OK\\nPWA WILEY POST OKLAHOMA CITY OK\\nSWO STILLWATER RGNL STILLWATER OK\\nOTH SOUTHWEST OREGON RGNL NORTH BEND OR\\nPDT EASTERN OREGON RGNL AT PENDLETON PENDLETON OR\\nSLE MCNARY FLD SALEM OR\\nTTD PORTLAND-TROUTDALE PORTLAND OR\\nCXY CAPITAL CITY HARRISBURG PA\\nLBE ARNOLD PALMER RGNL LATROBE PA\\nLNS LANCASTER LANCASTER PA\\nCRE GRAND STRAND NORTH MYRTLE BEACH SC\\nGYH DONALDSON CENTER GREENVILLE SC\\nHXD HILTON HEAD HILTON HEAD ISLAND SC\\nMKL MC KELLAR-SIPES RGNL JACKSON TN\\nNQA MILLINGTON RGNL JETPORT MILLINGTON TN\\nBAZ NEW BRAUNFELS MUNI NEW BRAUNFELS TX\\nBRO BROWNSVILLE/ SOUTH PADRE ISLAND INTL BROWNSVILLE TX\\nCLL EASTERWOOD FIELD COLLEGE STATION TX\\nCNW TSTC WACO WACO TX\\nCXO LONE STAR EXECUTIVE HOUSTON TX\\nGTU GEORGETOWN MUNI GEORGETOWN TX\\nHYI SAN MARCOS MUNI SAN MARCOS TX\\nRBD DALLAS EXECUTIVE DALLAS TX\\nSGR SUGAR LAND RGNL HOUSTON TX\\nSSF STINSON MUNI SAN ANTONIO TX\\nTKI COLLIN COUNTY RGNL AT MC KINNEY DALLAS TX\\nTYR TYLER POUNDS RGNL TYLER TX\\nVCT VICTORIA RGNL VICTORIA TX\\nOGD OGDEN-HINCKLEY OGDEN UT\\nPVU PROVO MUNI PROVO UT\\nLYH LYNCHBURG RGNL/ PRESTON GLENN FLD LYNCHBURG VA\\nOLM OLYMPIA RGNL OLYMPIA WA\\nRNT RENTON MUNI RENTON WA\\nSFF FELTS FIELD SPOKANE WA\\nTIW TACOMA NARROWS TACOMA WA\\nYKM YAKIMA AIR TERMINAL/ MCALLISTER FIELD YAKIMA WA\\nCWA CENTRAL WISCONSIN MOSINEE WI\\nEAU CHIPPEWA VALLEY RGNL EAU CLAIRE WI\\nENW KENOSHA RGNL KENOSHA WI\\nPage 3 of 4\\nFAA Contract Tower Closure List\\n(149 FCTs)\\n3-22-2013\\nLOC\\nID Facility Name City State\\nJVL SOUTHERN WISCONSIN RGNL JANESVILLE WI\\nLSE LA CROSSE MUNI LA CROSSE WI\\nMWC LAWRENCE J TIMMERMAN MILWAUKEE WI\\nOSH WITTMAN RGNL OSHKOSH WI\\nUES WAUKESHA COUNTY WAUKESHA WI\\nHLG WHEELING OHIO CO WHEELING WV\\nLWB GREENBRIER VALLEY LEWISBURG WV\\nPKB MID-OHIO VALLEY RGNL PARKERSBURG WV\\nPage 4 of 4\\n'"
      ]
     },
     "execution_count": 102,
     "metadata": {},
     "output_type": "execute_result"
    }
   ],
   "source": [
    "data"
   ]
  },
  {
   "cell_type": "code",
   "execution_count": 103,
   "metadata": {},
   "outputs": [
    {
     "data": {
      "text/plain": [
       "['hello', 'there']"
      ]
     },
     "execution_count": 103,
     "metadata": {},
     "output_type": "execute_result"
    }
   ],
   "source": [
    "'hello there'.split(' ')"
   ]
  },
  {
   "cell_type": "code",
   "execution_count": 104,
   "metadata": {},
   "outputs": [
    {
     "data": {
      "text/plain": [
       "['hello', 'there']"
      ]
     },
     "execution_count": 104,
     "metadata": {},
     "output_type": "execute_result"
    }
   ],
   "source": [
    "re.split(r' ', 'hello there')"
   ]
  },
  {
   "cell_type": "markdown",
   "metadata": {},
   "source": [
    "Regex 101. The more he uses it the more he likes it. \n",
    "\n",
    "Great for debugging regular expressions. "
   ]
  },
  {
   "cell_type": "code",
   "execution_count": null,
   "metadata": {},
   "outputs": [],
   "source": []
  },
  {
   "cell_type": "code",
   "execution_count": null,
   "metadata": {},
   "outputs": [],
   "source": []
  },
  {
   "cell_type": "code",
   "execution_count": null,
   "metadata": {},
   "outputs": [],
   "source": []
  }
 ],
 "metadata": {
  "kernelspec": {
   "display_name": "Python 3",
   "language": "python",
   "name": "python3"
  },
  "language_info": {
   "codemirror_mode": {
    "name": "ipython",
    "version": 3
   },
   "file_extension": ".py",
   "mimetype": "text/x-python",
   "name": "python",
   "nbconvert_exporter": "python",
   "pygments_lexer": "ipython3",
   "version": "3.6.6"
  }
 },
 "nbformat": 4,
 "nbformat_minor": 2
}
